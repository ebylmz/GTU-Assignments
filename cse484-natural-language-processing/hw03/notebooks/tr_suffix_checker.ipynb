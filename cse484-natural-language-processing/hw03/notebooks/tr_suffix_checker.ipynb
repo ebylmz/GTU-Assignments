{
  "cells": [
    {
      "cell_type": "markdown",
      "source": [
        "# Loading the Turkish Wkipedia Dataset"
      ],
      "metadata": {
        "id": "em4oULcc9AL6"
      }
    },
    {
      "cell_type": "code",
      "execution_count": 1,
      "metadata": {
        "colab": {
          "base_uri": "https://localhost:8080/",
          "height": 125
        },
        "id": "cHPdwT4EZIWQ",
        "outputId": "33c31f5d-b17a-4380-986e-31559ee144e2"
      },
      "outputs": [
        {
          "output_type": "display_data",
          "data": {
            "text/plain": [
              "<IPython.core.display.HTML object>"
            ],
            "text/html": [
              "\n",
              "     <input type=\"file\" id=\"files-70eabce5-03c0-4540-a8d7-34eb663f0fb6\" name=\"files[]\" multiple disabled\n",
              "        style=\"border:none\" />\n",
              "     <output id=\"result-70eabce5-03c0-4540-a8d7-34eb663f0fb6\">\n",
              "      Upload widget is only available when the cell has been executed in the\n",
              "      current browser session. Please rerun this cell to enable.\n",
              "      </output>\n",
              "      <script>// Copyright 2017 Google LLC\n",
              "//\n",
              "// Licensed under the Apache License, Version 2.0 (the \"License\");\n",
              "// you may not use this file except in compliance with the License.\n",
              "// You may obtain a copy of the License at\n",
              "//\n",
              "//      http://www.apache.org/licenses/LICENSE-2.0\n",
              "//\n",
              "// Unless required by applicable law or agreed to in writing, software\n",
              "// distributed under the License is distributed on an \"AS IS\" BASIS,\n",
              "// WITHOUT WARRANTIES OR CONDITIONS OF ANY KIND, either express or implied.\n",
              "// See the License for the specific language governing permissions and\n",
              "// limitations under the License.\n",
              "\n",
              "/**\n",
              " * @fileoverview Helpers for google.colab Python module.\n",
              " */\n",
              "(function(scope) {\n",
              "function span(text, styleAttributes = {}) {\n",
              "  const element = document.createElement('span');\n",
              "  element.textContent = text;\n",
              "  for (const key of Object.keys(styleAttributes)) {\n",
              "    element.style[key] = styleAttributes[key];\n",
              "  }\n",
              "  return element;\n",
              "}\n",
              "\n",
              "// Max number of bytes which will be uploaded at a time.\n",
              "const MAX_PAYLOAD_SIZE = 100 * 1024;\n",
              "\n",
              "function _uploadFiles(inputId, outputId) {\n",
              "  const steps = uploadFilesStep(inputId, outputId);\n",
              "  const outputElement = document.getElementById(outputId);\n",
              "  // Cache steps on the outputElement to make it available for the next call\n",
              "  // to uploadFilesContinue from Python.\n",
              "  outputElement.steps = steps;\n",
              "\n",
              "  return _uploadFilesContinue(outputId);\n",
              "}\n",
              "\n",
              "// This is roughly an async generator (not supported in the browser yet),\n",
              "// where there are multiple asynchronous steps and the Python side is going\n",
              "// to poll for completion of each step.\n",
              "// This uses a Promise to block the python side on completion of each step,\n",
              "// then passes the result of the previous step as the input to the next step.\n",
              "function _uploadFilesContinue(outputId) {\n",
              "  const outputElement = document.getElementById(outputId);\n",
              "  const steps = outputElement.steps;\n",
              "\n",
              "  const next = steps.next(outputElement.lastPromiseValue);\n",
              "  return Promise.resolve(next.value.promise).then((value) => {\n",
              "    // Cache the last promise value to make it available to the next\n",
              "    // step of the generator.\n",
              "    outputElement.lastPromiseValue = value;\n",
              "    return next.value.response;\n",
              "  });\n",
              "}\n",
              "\n",
              "/**\n",
              " * Generator function which is called between each async step of the upload\n",
              " * process.\n",
              " * @param {string} inputId Element ID of the input file picker element.\n",
              " * @param {string} outputId Element ID of the output display.\n",
              " * @return {!Iterable<!Object>} Iterable of next steps.\n",
              " */\n",
              "function* uploadFilesStep(inputId, outputId) {\n",
              "  const inputElement = document.getElementById(inputId);\n",
              "  inputElement.disabled = false;\n",
              "\n",
              "  const outputElement = document.getElementById(outputId);\n",
              "  outputElement.innerHTML = '';\n",
              "\n",
              "  const pickedPromise = new Promise((resolve) => {\n",
              "    inputElement.addEventListener('change', (e) => {\n",
              "      resolve(e.target.files);\n",
              "    });\n",
              "  });\n",
              "\n",
              "  const cancel = document.createElement('button');\n",
              "  inputElement.parentElement.appendChild(cancel);\n",
              "  cancel.textContent = 'Cancel upload';\n",
              "  const cancelPromise = new Promise((resolve) => {\n",
              "    cancel.onclick = () => {\n",
              "      resolve(null);\n",
              "    };\n",
              "  });\n",
              "\n",
              "  // Wait for the user to pick the files.\n",
              "  const files = yield {\n",
              "    promise: Promise.race([pickedPromise, cancelPromise]),\n",
              "    response: {\n",
              "      action: 'starting',\n",
              "    }\n",
              "  };\n",
              "\n",
              "  cancel.remove();\n",
              "\n",
              "  // Disable the input element since further picks are not allowed.\n",
              "  inputElement.disabled = true;\n",
              "\n",
              "  if (!files) {\n",
              "    return {\n",
              "      response: {\n",
              "        action: 'complete',\n",
              "      }\n",
              "    };\n",
              "  }\n",
              "\n",
              "  for (const file of files) {\n",
              "    const li = document.createElement('li');\n",
              "    li.append(span(file.name, {fontWeight: 'bold'}));\n",
              "    li.append(span(\n",
              "        `(${file.type || 'n/a'}) - ${file.size} bytes, ` +\n",
              "        `last modified: ${\n",
              "            file.lastModifiedDate ? file.lastModifiedDate.toLocaleDateString() :\n",
              "                                    'n/a'} - `));\n",
              "    const percent = span('0% done');\n",
              "    li.appendChild(percent);\n",
              "\n",
              "    outputElement.appendChild(li);\n",
              "\n",
              "    const fileDataPromise = new Promise((resolve) => {\n",
              "      const reader = new FileReader();\n",
              "      reader.onload = (e) => {\n",
              "        resolve(e.target.result);\n",
              "      };\n",
              "      reader.readAsArrayBuffer(file);\n",
              "    });\n",
              "    // Wait for the data to be ready.\n",
              "    let fileData = yield {\n",
              "      promise: fileDataPromise,\n",
              "      response: {\n",
              "        action: 'continue',\n",
              "      }\n",
              "    };\n",
              "\n",
              "    // Use a chunked sending to avoid message size limits. See b/62115660.\n",
              "    let position = 0;\n",
              "    do {\n",
              "      const length = Math.min(fileData.byteLength - position, MAX_PAYLOAD_SIZE);\n",
              "      const chunk = new Uint8Array(fileData, position, length);\n",
              "      position += length;\n",
              "\n",
              "      const base64 = btoa(String.fromCharCode.apply(null, chunk));\n",
              "      yield {\n",
              "        response: {\n",
              "          action: 'append',\n",
              "          file: file.name,\n",
              "          data: base64,\n",
              "        },\n",
              "      };\n",
              "\n",
              "      let percentDone = fileData.byteLength === 0 ?\n",
              "          100 :\n",
              "          Math.round((position / fileData.byteLength) * 100);\n",
              "      percent.textContent = `${percentDone}% done`;\n",
              "\n",
              "    } while (position < fileData.byteLength);\n",
              "  }\n",
              "\n",
              "  // All done.\n",
              "  yield {\n",
              "    response: {\n",
              "      action: 'complete',\n",
              "    }\n",
              "  };\n",
              "}\n",
              "\n",
              "scope.google = scope.google || {};\n",
              "scope.google.colab = scope.google.colab || {};\n",
              "scope.google.colab._files = {\n",
              "  _uploadFiles,\n",
              "  _uploadFilesContinue,\n",
              "};\n",
              "})(self);\n",
              "</script> "
            ]
          },
          "metadata": {}
        },
        {
          "output_type": "stream",
          "name": "stdout",
          "text": [
            "Saving kaggle.json to kaggle.json\n",
            "Downloading turkish-sentences-dataset.zip to /content\n",
            "  0% 0.00/3.82M [00:00<?, ?B/s]\n",
            "100% 3.82M/3.82M [00:00<00:00, 136MB/s]\n"
          ]
        }
      ],
      "source": [
        "from google.colab import files\n",
        "\n",
        "# Upload your kaggle credentials\n",
        "files.upload()\n",
        "\n",
        "# !rm -r ~/.kaggle\n",
        "!mkdir ~/.kaggle\n",
        "!mv ./kaggle.json ~/.kaggle/\n",
        "!chmod 600 ~/.kaggle/kaggle.json\n",
        "\n",
        "!kaggle datasets download -d mahdinamidamirchi/turkish-sentences-dataset\n",
        "!unzip -q turkish-sentences-dataset\n",
        "!mv wiki.tr.txt tr_wiki_sentences.txt"
      ]
    },
    {
      "cell_type": "code",
      "source": [
        "!wc -l tr_wiki_sentences.txt"
      ],
      "metadata": {
        "colab": {
          "base_uri": "https://localhost:8080/"
        },
        "id": "SDFJhnOrSMIa",
        "outputId": "3eb4d2a9-1bd8-4173-e7eb-112b0e81e758"
      },
      "execution_count": 2,
      "outputs": [
        {
          "output_type": "stream",
          "name": "stdout",
          "text": [
            "170458 tr_wiki_sentences.txt\n"
          ]
        }
      ]
    },
    {
      "cell_type": "markdown",
      "source": [
        "# Preprocessing"
      ],
      "metadata": {
        "id": "b638vYISsvkK"
      }
    },
    {
      "cell_type": "code",
      "source": [
        "import re\n",
        "import nltk\n",
        "from nltk.tokenize import sent_tokenize\n",
        "\n",
        "# Download the punkt tokenizer for sentence splitting\n",
        "nltk.download('punkt')\n",
        "\n",
        "def turkish_to_english(text):\n",
        "  # Define Turkish and English character mappings\n",
        "  turkish_chars = 'çğıöşüÇĞİÖŞÜ'\n",
        "  english_equivalents = 'cgiosuCGIOSU'\n",
        "\n",
        "  # Convert Turkish characters to English equivalents\n",
        "  translation_table = str.maketrans(turkish_chars, english_equivalents)\n",
        "  translated_text = text.translate(translation_table)\n",
        "\n",
        "  return translated_text\n",
        "\n",
        "def remove_non_alphabetical(input_string):\n",
        "    # Regular expression pattern to match non-alphabetical characters\n",
        "    pattern = re.compile(r'[^a-zA-Z ]')  # Matches any character that is not a letter\n",
        "\n",
        "    # Use the pattern to substitute non-alphabetical characters with an empty string\n",
        "    cleaned_string = re.sub(pattern, '', input_string)\n",
        "    cleaned_string = re.sub(r'\\s+', ' ', cleaned_string.strip())\n",
        "\n",
        "    return cleaned_string\n",
        "\n",
        "def preprocess(text):\n",
        "    text = text.strip()\n",
        "    text = text.lower()\n",
        "    text = turkish_to_english(text)\n",
        "    return text"
      ],
      "metadata": {
        "id": "az5i0VgSf1d7",
        "colab": {
          "base_uri": "https://localhost:8080/"
        },
        "outputId": "f9c9405d-decb-4590-83da-4ff631a8d08b"
      },
      "execution_count": 3,
      "outputs": [
        {
          "output_type": "stream",
          "name": "stderr",
          "text": [
            "[nltk_data] Downloading package punkt to /root/nltk_data...\n",
            "[nltk_data]   Unzipping tokenizers/punkt.zip.\n"
          ]
        }
      ]
    },
    {
      "cell_type": "code",
      "source": [
        "# Input and output file paths\n",
        "input_file_path = 'tr_wiki_sentences.txt'\n",
        "output_file_path = 'tr_wiki_sentences_prep.txt'\n",
        "\n",
        "# Open the input and output files\n",
        "with open(input_file_path, 'r', encoding='utf-8') as input_file, open(output_file_path, 'w', encoding='utf-8') as output_file:\n",
        "    # Read the Wikipedia dump file line by line\n",
        "    for line in input_file:\n",
        "        line = preprocess(line)\n",
        "        output_file.write(line + '\\n')"
      ],
      "metadata": {
        "id": "MWMhqoxCVrRT"
      },
      "execution_count": 4,
      "outputs": []
    },
    {
      "cell_type": "code",
      "source": [
        "!wc -l tr_wiki_sentences.txt\n",
        "!wc -l tr_wiki_sentences_prep.txt"
      ],
      "metadata": {
        "colab": {
          "base_uri": "https://localhost:8080/"
        },
        "id": "Kkt85SlSn53l",
        "outputId": "141c20ad-2ee0-42b9-e8a1-eb3583b88f91"
      },
      "execution_count": 5,
      "outputs": [
        {
          "output_type": "stream",
          "name": "stdout",
          "text": [
            "170458 tr_wiki_sentences.txt\n",
            "170458 tr_wiki_sentences_prep.txt\n"
          ]
        }
      ]
    },
    {
      "cell_type": "markdown",
      "source": [
        "# Labeling"
      ],
      "metadata": {
        "id": "sADoEqAQf2DN"
      }
    },
    {
      "cell_type": "code",
      "execution_count": 6,
      "metadata": {
        "id": "1SeOS--WuJAP"
      },
      "outputs": [],
      "source": [
        "import re\n",
        "import random\n",
        "import csv\n",
        "\n",
        "def get_indices_of_suffixes(words, suffixes):\n",
        "    pairs = []\n",
        "\n",
        "    for i, word in enumerate(words):\n",
        "      for suffix in suffixes:\n",
        "        if word.endswith(suffix):\n",
        "          pairs.append((i, suffix))\n",
        "\n",
        "    return pairs\n",
        "\n",
        "def combine_suffix(words, suffix, index):\n",
        "    if words[index] == suffix:\n",
        "        label = 0\n",
        "        words[index - 1:index + 1] = [words[index - 1] + suffix]\n",
        "    else:\n",
        "        label = 1\n",
        "    return words, label\n",
        "\n",
        "def label_sentences(input_file_path, output_file_path, suffixes):\n",
        "  counts = [0, 0]\n",
        "\n",
        "  suffix_dict = {}\n",
        "  for suffix in suffixes:\n",
        "    suffix_dict[suffix] = 0;\n",
        "\n",
        "  with open(input_file_path, 'r', encoding='utf-8') as input_file, open(output_file_path, 'w', newline='', encoding='utf-8') as output_file:\n",
        "    csv_writer = csv.writer(output_file, delimiter=',')\n",
        "    csv_writer.writerow(['Sentence', 'Label'])\n",
        "\n",
        "    # Each line contains single sentence\n",
        "    for sentence in input_file:\n",
        "      words = sentence.split()\n",
        "\n",
        "      pairs = get_indices_of_suffixes(words, suffixes)\n",
        "\n",
        "      if pairs:\n",
        "        index, suffix = pairs[0]\n",
        "        words, label = combine_suffix(words, suffix, index)\n",
        "\n",
        "        csv_writer.writerow([' '.join(words), label])\n",
        "\n",
        "        counts[label] += 1\n",
        "        suffix_dict[suffix] += 1\n",
        "\n",
        "  return counts, suffix_dict"
      ]
    },
    {
      "cell_type": "code",
      "execution_count": 7,
      "metadata": {
        "id": "5YKV71i_xCvg",
        "colab": {
          "base_uri": "https://localhost:8080/"
        },
        "outputId": "74123a06-dffd-4cfa-a672-3bcda0cb3682"
      },
      "outputs": [
        {
          "output_type": "stream",
          "name": "stdout",
          "text": [
            "Number of sentences labeled as 0: 6191\n",
            "Number of sentences labeled as 1: 48518\n",
            "Total number of sentences: 54709\n",
            "de: 39048\n",
            "ki: 15661\n"
          ]
        }
      ],
      "source": [
        "suffixes = ['de', 'ki']\n",
        "input_file_path = 'tr_wiki_sentences_prep.txt'\n",
        "output_file_path = 'tr_wiki_sentences_labeled.csv'\n",
        "\n",
        "# Read from the Turkish wiki dump file\n",
        "counts, suffix_counts = label_sentences(input_file_path, output_file_path, suffixes)\n",
        "print(f'Number of sentences labeled as 0: {counts[0]}')\n",
        "print(f'Number of sentences labeled as 1: {counts[1]}')\n",
        "print(f'Total number of sentences: {sum(counts)}')\n",
        "\n",
        "for key, value in suffix_counts.items():\n",
        "  print(f'{key}: {value}')"
      ]
    },
    {
      "cell_type": "markdown",
      "source": [
        "# Word Embeddings"
      ],
      "metadata": {
        "id": "kXdJjDrgjgrn"
      }
    },
    {
      "cell_type": "code",
      "source": [
        "from gensim.models import Word2Vec\n",
        "from nltk.tokenize import word_tokenize\n",
        "import nltk"
      ],
      "metadata": {
        "id": "7cATslkEBM5F"
      },
      "execution_count": 8,
      "outputs": []
    },
    {
      "cell_type": "markdown",
      "source": [
        "## Training Word2Vec"
      ],
      "metadata": {
        "id": "fk8_EY9I-gaP"
      }
    },
    {
      "cell_type": "code",
      "source": [
        "file_path = 'tr_wiki_sentences_prep.txt'\n",
        "\n",
        "# Read sentences from the file\n",
        "with open(file_path, 'r', encoding='utf-8') as file:\n",
        "    sentences = [line.strip() for line in file]\n",
        "\n",
        "# Tokenize sentences into words\n",
        "tokenized_sentences = [word_tokenize(sentence.lower()) for sentence in sentences]\n",
        "\n",
        "# Train Word2Vec model\n",
        "embedding_dim = 100  # You can adjust the dimension based on your preference\n",
        "word2vec_model = Word2Vec(sentences=tokenized_sentences, vector_size=embedding_dim, window=5, min_count=1, workers=4)\n",
        "\n",
        "# Save the Word2Vec model for future use\n",
        "word2vec_model.save(\"word2vec_model_wiki_sentences.bin\")"
      ],
      "metadata": {
        "id": "R_Z01ZfujeJV"
      },
      "execution_count": null,
      "outputs": []
    },
    {
      "cell_type": "code",
      "source": [
        "# Load the pre-trained Word2Vec model\n",
        "word2vec_model = Word2Vec.load(\"word2vec_model_wiki_sentences.bin\")\n",
        "\n",
        "# Get the embedding for a specific word\n",
        "embedding_for_word = word2vec_model.wv['annem']\n",
        "print(f'Embedding for \"annem\": {embedding_for_word}')"
      ],
      "metadata": {
        "colab": {
          "base_uri": "https://localhost:8080/"
        },
        "id": "TNBAcLItjow0",
        "outputId": "39fabe5d-a79e-4204-9108-89276aa7c33a"
      },
      "execution_count": null,
      "outputs": [
        {
          "output_type": "stream",
          "name": "stdout",
          "text": [
            "Embedding for \"annem\": [ 0.00198981  0.0197558   0.02448421  0.02136626 -0.00831842 -0.06080876\n",
            "  0.06945025  0.02513765 -0.02497915 -0.06514636  0.01360413 -0.03073233\n",
            "  0.01459122 -0.00491728 -0.01839857  0.04252306  0.03581208  0.00213142\n",
            " -0.03799397 -0.05568204 -0.0131327   0.02047143  0.00857743 -0.01176112\n",
            "  0.00253204  0.0142362  -0.00399292  0.004633    0.0098972   0.00662227\n",
            "  0.00856719  0.02737785  0.02615018 -0.00426419 -0.02804015 -0.02336692\n",
            "  0.05310734 -0.01930005  0.01421687 -0.01577802 -0.02008804 -0.0448346\n",
            "  0.00357063 -0.01995378  0.01965951 -0.00378155 -0.01059865  0.01739278\n",
            " -0.00480235 -0.02386461  0.02404427 -0.00842587 -0.04596933 -0.02003433\n",
            " -0.00554342  0.01582928 -0.01487601 -0.01387357 -0.0065873   0.06962883\n",
            " -0.01747985  0.00921577  0.0392499   0.03564065  0.00209567  0.0685766\n",
            " -0.01127598  0.01635105 -0.0207727   0.04325216 -0.02653047  0.04385545\n",
            "  0.03250389 -0.03346518 -0.00916952  0.02531049  0.0276063  -0.01834346\n",
            "  0.00011127  0.01651221 -0.00977405  0.01164623  0.06224004  0.01904952\n",
            " -0.0019629   0.03331422  0.02979107  0.02748048  0.00862464 -0.00759839\n",
            "  0.0076155   0.00558882 -0.01543398  0.01044786  0.032963   -0.0562548\n",
            "  0.02803382 -0.01138413  0.00478736  0.01213082]\n"
          ]
        }
      ]
    },
    {
      "cell_type": "code",
      "source": [
        "word2vec_model.wv['annem'].shape"
      ],
      "metadata": {
        "colab": {
          "base_uri": "https://localhost:8080/"
        },
        "id": "9ZQHqQzg8cDU",
        "outputId": "44826144-c745-4f57-aace-087c2e67dc1a"
      },
      "execution_count": null,
      "outputs": [
        {
          "output_type": "execute_result",
          "data": {
            "text/plain": [
              "(100,)"
            ]
          },
          "metadata": {},
          "execution_count": 5
        }
      ]
    },
    {
      "cell_type": "markdown",
      "source": [
        "## Loading Pre-Trained Word2Vec Model"
      ],
      "metadata": {
        "id": "9JjCCds4KsTI"
      }
    },
    {
      "cell_type": "markdown",
      "source": [
        "Load the word2vec model trained on Wikipedia Turkish dump more details checkout the [GitHub repository](https://github.com/akoksal/Turkish-Word2Vec)."
      ],
      "metadata": {
        "id": "VRerbkyAMaWN"
      }
    },
    {
      "cell_type": "code",
      "source": [
        "!pip install gdown\n",
        "!gdown --id 1q1o2sGByIaUHd7vi5IX8KJEcJw329hgY"
      ],
      "metadata": {
        "colab": {
          "base_uri": "https://localhost:8080/"
        },
        "id": "M3BnWlUUMUPL",
        "outputId": "f6aa4030-2432-4ff2-b374-2ffe55e7f510"
      },
      "execution_count": 9,
      "outputs": [
        {
          "output_type": "stream",
          "name": "stdout",
          "text": [
            "Requirement already satisfied: gdown in /usr/local/lib/python3.10/dist-packages (4.7.3)\n",
            "Requirement already satisfied: filelock in /usr/local/lib/python3.10/dist-packages (from gdown) (3.13.1)\n",
            "Requirement already satisfied: requests[socks] in /usr/local/lib/python3.10/dist-packages (from gdown) (2.31.0)\n",
            "Requirement already satisfied: six in /usr/local/lib/python3.10/dist-packages (from gdown) (1.16.0)\n",
            "Requirement already satisfied: tqdm in /usr/local/lib/python3.10/dist-packages (from gdown) (4.66.1)\n",
            "Requirement already satisfied: beautifulsoup4 in /usr/local/lib/python3.10/dist-packages (from gdown) (4.11.2)\n",
            "Requirement already satisfied: soupsieve>1.2 in /usr/local/lib/python3.10/dist-packages (from beautifulsoup4->gdown) (2.5)\n",
            "Requirement already satisfied: charset-normalizer<4,>=2 in /usr/local/lib/python3.10/dist-packages (from requests[socks]->gdown) (3.3.2)\n",
            "Requirement already satisfied: idna<4,>=2.5 in /usr/local/lib/python3.10/dist-packages (from requests[socks]->gdown) (3.6)\n",
            "Requirement already satisfied: urllib3<3,>=1.21.1 in /usr/local/lib/python3.10/dist-packages (from requests[socks]->gdown) (2.0.7)\n",
            "Requirement already satisfied: certifi>=2017.4.17 in /usr/local/lib/python3.10/dist-packages (from requests[socks]->gdown) (2023.11.17)\n",
            "Requirement already satisfied: PySocks!=1.5.7,>=1.5.6 in /usr/local/lib/python3.10/dist-packages (from requests[socks]->gdown) (1.7.1)\n",
            "/usr/local/lib/python3.10/dist-packages/gdown/cli.py:138: FutureWarning: Option `--id` was deprecated in version 4.3.1 and will be removed in 5.0. You don't need to pass it anymore to use a file ID.\n",
            "  warnings.warn(\n",
            "Downloading...\n",
            "From (original): https://drive.google.com/uc?id=1q1o2sGByIaUHd7vi5IX8KJEcJw329hgY\n",
            "From (redirected): https://drive.google.com/uc?id=1q1o2sGByIaUHd7vi5IX8KJEcJw329hgY&confirm=t&uuid=96ea8560-87b1-4b19-96fb-cb0c1af4e051\n",
            "To: /content/trmodel\n",
            "100% 664M/664M [00:09<00:00, 70.1MB/s]\n"
          ]
        }
      ]
    },
    {
      "cell_type": "code",
      "source": [
        "from gensim.models import KeyedVectors\n",
        "\n",
        "word2vec_model = KeyedVectors.load_word2vec_format('trmodel', binary=True)\n",
        "\n",
        "embedding_for_word = word2vec_model['annem']\n",
        "print(f'Embedding for \"annem\": {embedding_for_word}')"
      ],
      "metadata": {
        "colab": {
          "base_uri": "https://localhost:8080/"
        },
        "id": "_Xozt75LNMoF",
        "outputId": "9c841589-dbdf-4fa6-a171-393160c9fef9"
      },
      "execution_count": 10,
      "outputs": [
        {
          "output_type": "stream",
          "name": "stdout",
          "text": [
            "Embedding for \"annem\": [-2.45926276e-01 -8.93670976e-01 -6.97998479e-02  2.48153031e-01\n",
            " -8.12079832e-02  3.36787134e-01  7.05638051e-01  1.83669314e-01\n",
            "  1.36171913e+00 -1.41144678e-01 -3.27689469e-01  6.15260005e-01\n",
            " -6.03327751e-01  3.79122585e-01  2.70111299e+00 -5.64137518e-01\n",
            "  7.78773308e-01  7.97056675e-01  2.20021144e-01 -8.87475610e-01\n",
            " -3.48481327e-01 -6.26669049e-01 -1.07604600e-02  1.46289909e+00\n",
            " -1.77151009e-01  1.57381928e+00  3.45047861e-02 -5.53172588e-01\n",
            "  1.30246490e-01  2.82778919e-01 -7.66578257e-01  5.06767690e-01\n",
            "  6.27754748e-01  5.65451801e-01 -4.70315963e-01  6.54695272e-01\n",
            " -2.17029214e-01 -1.52380753e+00 -8.08578789e-01  2.18003228e-01\n",
            "  8.96990180e-01  7.49978423e-02  1.90185070e-01  1.53467083e+00\n",
            " -5.07358313e-01  7.62831047e-02 -8.48436236e-01  6.78600371e-01\n",
            " -9.35373724e-01  2.36679435e-01 -9.41232204e-01 -1.23767579e+00\n",
            " -8.20650995e-01  4.70796585e-01 -2.80211300e-01 -1.05270946e+00\n",
            "  5.34210980e-01  3.12256925e-02  7.44415820e-01 -6.15842223e-01\n",
            " -2.09211516e+00 -9.92006183e-01  4.16265398e-01  4.33065981e-01\n",
            " -5.16973063e-03  1.50831950e+00 -6.22707129e-01 -1.96176201e-01\n",
            " -7.68090844e-01 -7.28453219e-01 -3.13028932e-01 -6.77871346e-01\n",
            " -4.48973179e-01 -5.49074471e-01 -7.78957605e-01  2.59825200e-01\n",
            "  4.77896184e-01 -8.04149687e-01  1.31204605e-01  1.36775184e+00\n",
            "  2.02396035e-01  3.14449593e-02 -1.50197220e+00  3.57368112e-01\n",
            " -8.61939907e-01  5.14179766e-01 -1.35634094e-01  6.18446112e-01\n",
            "  3.53406936e-01 -2.26394817e-01 -6.71924651e-01 -1.17105069e-02\n",
            " -2.04182371e-01 -4.47011143e-01  5.75458944e-01 -1.32254112e+00\n",
            " -1.17516309e-01  6.31745398e-01 -3.77913415e-01 -1.22645877e-01\n",
            "  1.04077125e+00 -1.38053112e-02  8.56598675e-01 -2.14728326e-01\n",
            " -5.72665215e-01 -1.45017087e+00 -1.27907051e-02  3.71385396e-01\n",
            " -2.71955132e-01  1.09351695e+00 -1.22354038e-01 -3.93398702e-01\n",
            " -2.43235081e-01  1.32377937e-01 -3.56636643e-01 -8.51576209e-01\n",
            "  2.81539802e-02  6.24449074e-01 -7.37465084e-01  6.02814436e-01\n",
            " -5.76040804e-01  1.03987828e-01 -2.71842301e-01  7.55687594e-01\n",
            " -8.59166443e-01  1.04080617e+00  8.42176259e-01  3.91393960e-01\n",
            " -1.16485858e+00 -7.47792363e-01 -1.41752660e-01  4.38519239e-01\n",
            "  1.01867437e+00  2.20811099e-01  5.07523715e-01 -7.90202141e-01\n",
            " -7.30713487e-01  2.98718989e-01 -3.34850818e-01 -4.00595963e-01\n",
            "  1.47524208e-01 -1.51647353e+00  8.86533976e-01  7.56655216e-01\n",
            " -5.44676483e-01  1.99190363e-01  9.84629810e-01 -4.80911821e-01\n",
            "  1.07306920e-01  7.71830678e-01  4.78264093e-01  3.56243461e-01\n",
            " -7.74305284e-01  1.09571911e-01  4.40406054e-01  6.54659212e-01\n",
            "  4.01506394e-01 -1.46852541e+00  3.53321731e-01 -1.18719779e-01\n",
            " -1.32509828e+00 -4.19274449e-01  2.75462359e-01 -8.32714513e-02\n",
            "  3.43853205e-01  5.72398081e-02  6.42823726e-02  9.93778288e-01\n",
            " -2.29618967e-01  2.09669307e-01 -4.11094606e-01  1.05435646e+00\n",
            " -1.25112953e-02  9.54648137e-01 -3.33815485e-01 -1.11567068e+00\n",
            " -8.00699554e-03 -2.66169548e-01  2.86375992e-02 -1.57853439e-01\n",
            "  8.61078262e-01 -9.99909639e-03 -5.10614216e-02  3.41806084e-01\n",
            " -8.03124130e-01  2.15387587e-02  8.04533362e-02 -1.19012529e-02\n",
            "  1.07750006e-01  5.61172426e-01 -6.16656579e-02 -3.93152684e-01\n",
            "  3.61212306e-02  7.40354538e-01 -1.25048983e+00 -6.04518414e-01\n",
            "  6.66400075e-01  1.54210305e+00 -6.84382439e-01 -6.20151460e-01\n",
            " -9.08712149e-01  1.98187113e-01 -4.91624832e-01 -1.12289667e+00\n",
            "  5.50126791e-01 -4.54576463e-02  4.91663605e-01 -4.19199288e-01\n",
            "  4.45696771e-01  7.15376213e-02  2.47035265e-01 -3.16625386e-01\n",
            "  3.08944173e-02  4.74234015e-01  3.87324959e-01 -1.26886868e+00\n",
            "  2.26486012e-01 -5.30355215e-01  9.75642920e-01  7.69118667e-01\n",
            " -8.30270588e-01 -1.28870741e-01 -1.65070546e+00  1.24434865e+00\n",
            "  2.45962977e-01 -1.26740527e+00 -2.13176280e-01 -4.46237147e-01\n",
            " -1.19437182e+00 -6.94037557e-01 -7.72609830e-01  1.88342094e-01\n",
            "  1.02304530e+00  2.40212008e-01  1.04906164e-01  5.42158842e-01\n",
            "  3.91824394e-01 -5.23995757e-01  8.13765585e-01  3.28540862e-01\n",
            "  7.12946534e-01 -5.68546712e-01 -1.03904998e+00 -1.82822332e-01\n",
            " -9.53945681e-04  5.39324522e-01 -7.73154080e-01 -1.52593958e+00\n",
            " -6.65492177e-01  6.28398180e-01  1.99186310e-01  1.28065884e+00\n",
            " -2.68156618e-01 -7.04868197e-01 -1.56752095e-01 -2.32566223e-01\n",
            "  1.59395802e+00 -3.05898398e-01  3.75114083e-01  9.44597304e-01\n",
            " -4.08458523e-02 -4.81673270e-01  1.11263864e-01  1.82052031e-01\n",
            "  4.16781723e-01  1.90185800e-01  8.02429914e-01  4.25161153e-01\n",
            " -5.59876263e-01 -1.35946438e-01  5.75125098e-01  7.92963922e-01\n",
            "  7.61536002e-01  1.30244151e-01 -3.74255478e-01 -1.69259399e-01\n",
            "  3.34587783e-01 -2.47274414e-01  9.82673287e-01  5.02805710e-01\n",
            " -6.52920663e-01  3.22568148e-01  8.38371217e-01 -6.53296769e-01\n",
            " -5.61615825e-01  1.48032892e+00 -5.77215493e-01  8.91727030e-01\n",
            "  4.22485858e-01  8.04077208e-01 -5.46046078e-01 -5.21140210e-02\n",
            " -1.57298613e+00  2.90875703e-01 -3.20014149e-01  3.98745298e-01\n",
            " -1.42918575e+00 -3.23412567e-01  3.63360971e-01  1.29119349e+00\n",
            "  8.43090713e-01 -6.69909939e-02  1.16116323e-01  1.20734167e+00\n",
            " -9.73350480e-02  2.76482344e-01  4.20404404e-01 -9.51434612e-01\n",
            " -7.23058164e-01 -3.37117791e-01  1.07182157e+00 -4.73492652e-01\n",
            " -3.84950072e-01  4.08934504e-01  4.28104132e-01  3.32408249e-01\n",
            " -4.99676794e-01 -8.95463765e-01  8.89643908e-01  6.23250425e-01\n",
            " -3.07299286e-01  6.20910935e-02 -1.59659222e-01 -1.08260548e+00\n",
            " -7.88904428e-01 -3.28527182e-01  8.51577163e-01  5.31500816e-01\n",
            " -1.05903082e-01  7.10613132e-01 -2.39967138e-01 -1.08573958e-01\n",
            "  2.41445795e-01 -6.70041144e-01  1.83015689e-01 -3.42931420e-01\n",
            "  5.36830246e-01  2.94226199e-01  1.02169406e+00  3.36411834e-01\n",
            " -3.59754354e-01  9.47210193e-01  1.32543445e-01  4.87251759e-01\n",
            "  5.25738955e-01  8.68845046e-01  6.72002614e-01  9.89673957e-02\n",
            "  6.20948315e-01  2.88280934e-01  9.96435285e-02 -1.15440845e+00\n",
            "  3.23421419e-01 -5.30651391e-01 -2.36994982e-01  6.75529063e-01\n",
            "  5.95472336e-01 -2.56687582e-01 -9.23783123e-01  4.81847301e-02\n",
            "  3.74751508e-01  2.73003489e-01 -6.64931059e-01 -5.53241134e-01\n",
            " -1.20274282e+00  3.45016688e-01  5.60569167e-01  9.13121328e-02\n",
            " -5.56053936e-01  2.28185847e-01  3.56301814e-01  7.43638456e-01\n",
            " -7.71183729e-01 -6.62590146e-01 -9.54365879e-02 -8.97418499e-01\n",
            "  6.46996856e-01 -1.36433259e-01 -3.94742519e-01 -7.14957118e-01\n",
            "  2.12436974e-01  1.54414427e+00  4.06704187e-01  3.26084644e-01\n",
            " -6.06206179e-01 -3.65068555e-01  1.11571217e+00 -1.44078016e+00\n",
            " -4.13300455e-01  3.98105264e-01 -1.82652418e-02 -1.06943715e+00\n",
            "  2.32148580e-02  1.44391358e+00  8.66581321e-01  9.59839940e-01\n",
            " -6.49745941e-01  2.05661148e-01 -8.19808900e-01 -1.06071293e+00]\n"
          ]
        }
      ]
    },
    {
      "cell_type": "code",
      "source": [
        "word2vec_model['annem'].shape"
      ],
      "metadata": {
        "colab": {
          "base_uri": "https://localhost:8080/"
        },
        "id": "AVHczhFRN3yb",
        "outputId": "9ec6c4b4-2662-498e-8994-4113748cbaac"
      },
      "execution_count": 11,
      "outputs": [
        {
          "output_type": "execute_result",
          "data": {
            "text/plain": [
              "(400,)"
            ]
          },
          "metadata": {},
          "execution_count": 11
        }
      ]
    },
    {
      "cell_type": "markdown",
      "source": [
        "# Model Building and Training"
      ],
      "metadata": {
        "id": "5rkpgJ-ek98w"
      }
    },
    {
      "cell_type": "code",
      "source": [
        "import matplotlib.pyplot as plt\n",
        "\n",
        "def plot_performance(history):\n",
        "  # Accessing training/validation accuracies and losses\n",
        "  train_acc = history.history['accuracy']\n",
        "  val_acc = history.history['val_accuracy']\n",
        "  train_loss = history.history['loss']\n",
        "  val_loss = history.history['val_loss']\n",
        "\n",
        "  epochs_range = range(1, len(train_acc) + 1)\n",
        "\n",
        "  # Plotting accuracy\n",
        "  plt.figure(figsize=(12, 4))\n",
        "  plt.subplot(1, 2, 1)\n",
        "  plt.plot(epochs_range, train_acc, label='Training Accuracy')\n",
        "  plt.plot(epochs_range, val_acc, label='Validation Accuracy')\n",
        "  plt.xlabel('Epochs')\n",
        "  plt.ylabel('Accuracy')\n",
        "  plt.title('Training and Validation Accuracy')\n",
        "  plt.legend()\n",
        "\n",
        "  # Plotting loss\n",
        "  plt.subplot(1, 2, 2)\n",
        "  plt.plot(epochs_range, train_loss, label='Training Loss')\n",
        "  plt.plot(epochs_range, val_loss, label='Validation Loss')\n",
        "  plt.xlabel('Epochs')\n",
        "  plt.ylabel('Loss')\n",
        "  plt.title('Training and Validation Loss')\n",
        "  plt.legend()\n",
        "\n",
        "  plt.tight_layout()\n",
        "  plt.show()"
      ],
      "metadata": {
        "id": "FiYC15OkLVfy"
      },
      "execution_count": 12,
      "outputs": []
    },
    {
      "cell_type": "code",
      "source": [
        "import numpy as np\n",
        "import pandas as pd\n",
        "from sklearn.model_selection import train_test_split\n",
        "\n",
        "embedding_dim = 400\n",
        "max_length = 14  # Max number of words in turkish-sentences dataset\n",
        "\n",
        "# Convert sentences to sequences of vectors\n",
        "def sentence_to_vectors(sentence, word2vec_model, embedding_dim=100, max_length=14):\n",
        "    vectors = [word2vec_model[word] for word in sentence if word in word2vec_model]\n",
        "    # If a sentence is shorter than the desired length, pad with zeros\n",
        "    padding = [np.zeros(embedding_dim)] * (max_length - len(vectors))\n",
        "    return np.array(vectors + padding)\n",
        "\n",
        "def sentence_to_word_embeddings(sentences, word2vec_model, embedding_dim):\n",
        "  # Tokenize sentences into words\n",
        "  tokenized_sentences = [word_tokenize(preprocess(sentence)) for sentence in sentences]\n",
        "  # Apply the function to all sentences\n",
        "  X = [sentence_to_vectors(sentence, word2vec_model, embedding_dim) for sentence in tokenized_sentences]\n",
        "  X = np.array(X)\n",
        "  return X"
      ],
      "metadata": {
        "id": "jJskReFNK4q8"
      },
      "execution_count": 13,
      "outputs": []
    },
    {
      "cell_type": "code",
      "source": [
        "# File path containing sentences and labels\n",
        "file_path = 'tr_wiki_sentences_labeled.csv'\n",
        "\n",
        "# Read data from CSV file\n",
        "df = pd.read_csv(file_path)\n",
        "\n",
        "filtered_df = df[df['Sentence'].apply(lambda x: len(word_tokenize(x.lower())) <= max_length)]\n",
        "\n",
        "# Extract sentences and labels\n",
        "sentences = filtered_df['Sentence'].tolist()\n",
        "labels = filtered_df['Label'].tolist()\n",
        "\n",
        "# Convert the sentences into word embeddings\n",
        "X = sentence_to_word_embeddings(sentences, word2vec_model, embedding_dim)\n",
        "y = np.array(labels)\n",
        "\n",
        "# Split the data into training and validation sets\n",
        "X_train, X_test, y_train, y_test = train_test_split(X, y, test_size=0.1, random_state=42)"
      ],
      "metadata": {
        "id": "iYC2SpPKkdU8"
      },
      "execution_count": 14,
      "outputs": []
    },
    {
      "cell_type": "code",
      "source": [
        "from keras.models import Sequential\n",
        "from keras.layers import Bidirectional, LSTM, Dense, Dropout, Embedding\n",
        "from keras.callbacks import EarlyStopping\n",
        "\n",
        "model = Sequential()\n",
        "model.add(Bidirectional(LSTM(units=64, return_sequences=True)))\n",
        "model.add(Dropout(0.3))\n",
        "model.add(Bidirectional(LSTM(units=64)))\n",
        "model.add(Dropout(0.3))\n",
        "model.add(Dense(units=1, activation='sigmoid'))\n",
        "\n",
        "model.compile(optimizer='adam', loss='binary_crossentropy', metrics=['accuracy'])\n",
        "\n",
        "early_stopping = EarlyStopping(monitor='val_loss', patience=3, restore_best_weights=True)\n",
        "\n",
        "history = model.fit(X_train, y_train, epochs=50, batch_size=32, validation_split=0.1, callbacks=[early_stopping])"
      ],
      "metadata": {
        "colab": {
          "base_uri": "https://localhost:8080/"
        },
        "id": "AtDn0dp0OW--",
        "outputId": "3a5b92f6-e0f0-46fb-e7c1-b14036cddfac"
      },
      "execution_count": 25,
      "outputs": [
        {
          "output_type": "stream",
          "name": "stdout",
          "text": [
            "Epoch 1/50\n",
            "1302/1302 [==============================] - 76s 51ms/step - loss: 0.2904 - accuracy: 0.8933 - val_loss: 0.2529 - val_accuracy: 0.9026\n",
            "Epoch 2/50\n",
            "1302/1302 [==============================] - 66s 50ms/step - loss: 0.2418 - accuracy: 0.9077 - val_loss: 0.2351 - val_accuracy: 0.9071\n",
            "Epoch 3/50\n",
            "1302/1302 [==============================] - 64s 50ms/step - loss: 0.2069 - accuracy: 0.9196 - val_loss: 0.2346 - val_accuracy: 0.9097\n",
            "Epoch 4/50\n",
            "1302/1302 [==============================] - 68s 52ms/step - loss: 0.1710 - accuracy: 0.9344 - val_loss: 0.2491 - val_accuracy: 0.9026\n",
            "Epoch 5/50\n",
            "1302/1302 [==============================] - 76s 58ms/step - loss: 0.1352 - accuracy: 0.9485 - val_loss: 0.2790 - val_accuracy: 0.9028\n",
            "Epoch 6/50\n",
            "1302/1302 [==============================] - 69s 53ms/step - loss: 0.1088 - accuracy: 0.9592 - val_loss: 0.3019 - val_accuracy: 0.9037\n"
          ]
        }
      ]
    },
    {
      "cell_type": "code",
      "source": [
        "plot_performance(history)"
      ],
      "metadata": {
        "colab": {
          "base_uri": "https://localhost:8080/",
          "height": 401
        },
        "id": "2W6eUTNkdTrM",
        "outputId": "c10832f6-3bb5-4184-9506-8e5fedbf1e66"
      },
      "execution_count": 26,
      "outputs": [
        {
          "output_type": "display_data",
          "data": {
            "text/plain": [
              "<Figure size 1200x400 with 2 Axes>"
            ],
            "image/png": "[encoded data removed]"
          },
          "metadata": {}
        }
      ]
    },
    {
      "cell_type": "code",
      "source": [
        "# Evaluate the model on the test set\n",
        "loss, accuracy = model.evaluate(X_test, y_test)\n",
        "print(f'Test Accuracy: {accuracy * 100:.2f}%')"
      ],
      "metadata": {
        "colab": {
          "base_uri": "https://localhost:8080/"
        },
        "id": "G2Q0L8licqgP",
        "outputId": "ac868bb7-9e3d-44a2-d2a0-2bdaf30ded11"
      },
      "execution_count": 27,
      "outputs": [
        {
          "output_type": "stream",
          "name": "stdout",
          "text": [
            "161/161 [==============================] - 3s 21ms/step - loss: 0.2435 - accuracy: 0.9080\n",
            "Test Accuracy: 90.80%\n"
          ]
        }
      ]
    },
    {
      "cell_type": "code",
      "source": [
        "model.save('tr_suffix_checker.keras')"
      ],
      "metadata": {
        "id": "QKTVxFwlgiCX"
      },
      "execution_count": 30,
      "outputs": []
    },
    {
      "cell_type": "markdown",
      "source": [
        "# Evaluation"
      ],
      "metadata": {
        "id": "y8h0o5QQK_C2"
      }
    },
    {
      "cell_type": "code",
      "source": [
        "new_sentences = [\n",
        "    \"Aklım hep sende kaldı.\",\n",
        "    \"Okadar lezzetliki, yemeye kıyamıyorum.\",\n",
        "    \"Evdeki tüm armutlar bitmiş.\",\n",
        "    \"Cezaevinde sinema ile olan ilgisi devam etti.\",\n",
        "    \"Kalemleri evde kalmış.\",\n",
        "    \"Annemde bizimle gelicek.\",\n",
        "    \"Kalemlerim annemde kaldı.\",\n",
        "    \"Yöre halkına göre gölde bir canavar yaşamaktadır.\",\n",
        "    \"Gunumuzde kardes kulup anlasmasi aktif degildir. \",\n",
        "    \"Yeni öğrencilerde geziye geldi.\",\n",
        "    \"Yeni öğrencilerde gelişme var.\",\n",
        "    \"Bu dönemde asyali kolelerin sayisi cok fazladir.\",\n",
        "    \"Onlar aynı caddede buyumus ve birbirini seven iki asiktir..\",\n",
        "    \"Evlerin tarihide eskidir.\",\n",
        "    \"Bircok roma eyaleti bu bolgede kuruldu.\",\n",
        "    \"Liberal koylu partiside bu partiye katildi.\",\n",
        "    \"Gunumuzde latince olarak bilinir.\",\n",
        "    \"Gunumuzdede latince olarak bilinir.\",\n",
        "    \"Evini dedesinde bırakmış.\",\n",
        "    \"Onun dedeside gelecek.\",\n",
        "    \"Evdede yemek yokmuş.\",\n",
        "    \"Herkes evde oturuyor.\",\n",
        "    \"En iyiside onun doğaçlamasıydı.\",\n",
        "    \"Onun aklı kırmızı elbisede kaldı.\",\n",
        "    \"İlkbaharda bütün doğa canlanır.\",\n",
        "    \"Komşunun köpeğide durmadan havlıyor.\",\n",
        "    \"Beni yanlış anlamada o iş öyle yapılmaz.\",\n",
        "    \"Yarın akşamda bizde ders çalışalım.\",\n",
        "    \"Masadaki bardağı uzatır mısın?\",\n",
        "    \"Çevremizi temiz tutalımki başkaları rahatsız olmasın.\",\n",
        "    \"Penceremdeki çiçek soğuktan dondu.\",\n",
        "    \"Duydumki unutmuşsun gözlerimin rengini.\",\n",
        "    \"Beni dinlemedinki gerçekleri sana anlatayım.\",\n",
        "    \"Kitap okuki kelime dağarcığın gelişsin.\",\n",
        "    \"Benki hep sizin için çalıştım.\",\n",
        "    \"Benimki yine gelmiş.\",\n",
        "    \"Kiminki kazanacak göreceğiz.\",\n",
        "    \"Patlıcanları ince ince doğraki güzel pişsin.\",\n",
        "    \"Yemeklerini yeki çabuk iyileşesin.\",\n",
        "    \"Tutki karnım acıktı, o zaman ne yapıcam?\",\n",
        "]"
      ],
      "metadata": {
        "id": "PWKh85rjlwQV"
      },
      "execution_count": 39,
      "outputs": []
    },
    {
      "cell_type": "code",
      "source": [
        "from keras.models import load_model\n",
        "\n",
        "model = load_model('tr_suffix_checker.keras')"
      ],
      "metadata": {
        "id": "M4Uk5ZxQZCyK"
      },
      "execution_count": 33,
      "outputs": []
    },
    {
      "cell_type": "code",
      "source": [
        "# Convert the sentences into word embeddings\n",
        "X_new = sentence_to_word_embeddings(new_sentences, word2vec_model, embedding_dim)\n",
        "\n",
        "# Make predictions\n",
        "predictions = model.predict(X_new)\n",
        "\n",
        "# Convert predictions to binary labels\n",
        "binary_predictions = (predictions > 0.5).astype(int)\n",
        "\n",
        "# Display the predictions\n",
        "print(\"Predictions:\")\n",
        "for i, (sentence, prediction) in enumerate(zip(new_sentences, binary_predictions), 1):\n",
        "    prediction_label = \"True\" if prediction[0] == 1 else \"False\"\n",
        "    print(f\"{i}.) Sentence: '{sentence}'\\nPrediction: {prediction_label}\\n\")"
      ],
      "metadata": {
        "id": "J_yMaiuIhWX0",
        "colab": {
          "base_uri": "https://localhost:8080/"
        },
        "outputId": "9ec37b90-c740-4981-96cf-33b1eb649c5f"
      },
      "execution_count": 40,
      "outputs": [
        {
          "output_type": "stream",
          "name": "stdout",
          "text": [
            "2/2 [==============================] - 0s 41ms/step\n",
            "Predictions:\n",
            "1.) Sentence: 'Aklım hep sende kaldı.'\n",
            "Prediction: True\n",
            "\n",
            "2.) Sentence: 'Okadar lezzetliki, yemeye kıyamıyorum.'\n",
            "Prediction: True\n",
            "\n",
            "3.) Sentence: 'Evdeki tüm armutlar bitmiş.'\n",
            "Prediction: True\n",
            "\n",
            "4.) Sentence: 'Cezaevinde sinema ile olan ilgisi devam etti.'\n",
            "Prediction: True\n",
            "\n",
            "5.) Sentence: 'Kalemleri evde kalmış.'\n",
            "Prediction: True\n",
            "\n",
            "6.) Sentence: 'Annemde bizimle gelicek.'\n",
            "Prediction: False\n",
            "\n",
            "7.) Sentence: 'Kalemlerim annemde kaldı.'\n",
            "Prediction: True\n",
            "\n",
            "8.) Sentence: 'Yöre halkına göre gölde bir canavar yaşamaktadır.'\n",
            "Prediction: True\n",
            "\n",
            "9.) Sentence: 'Gunumuzde kardes kulup anlasmasi aktif degildir. '\n",
            "Prediction: True\n",
            "\n",
            "10.) Sentence: 'Yeni öğrencilerde geziye geldi.'\n",
            "Prediction: False\n",
            "\n",
            "11.) Sentence: 'Yeni öğrencilerde gelişme var.'\n",
            "Prediction: True\n",
            "\n",
            "12.) Sentence: 'Bu dönemde asyali kolelerin sayisi cok fazladir.'\n",
            "Prediction: True\n",
            "\n",
            "13.) Sentence: 'Onlar aynı caddede buyumus ve birbirini seven iki asiktir..'\n",
            "Prediction: True\n",
            "\n",
            "14.) Sentence: 'Evlerin tarihide eskidir.'\n",
            "Prediction: True\n",
            "\n",
            "15.) Sentence: 'Bircok roma eyaleti bu bolgede kuruldu.'\n",
            "Prediction: True\n",
            "\n",
            "16.) Sentence: 'Liberal koylu partiside bu partiye katildi.'\n",
            "Prediction: False\n",
            "\n",
            "17.) Sentence: 'Gunumuzde latince olarak bilinir.'\n",
            "Prediction: True\n",
            "\n",
            "18.) Sentence: 'Gunumuzdede latince olarak bilinir.'\n",
            "Prediction: True\n",
            "\n",
            "19.) Sentence: 'Evini dedesinde bırakmış.'\n",
            "Prediction: True\n",
            "\n",
            "20.) Sentence: 'Onun dedeside gelecek.'\n",
            "Prediction: False\n",
            "\n",
            "21.) Sentence: 'Evdede yemek yokmuş.'\n",
            "Prediction: False\n",
            "\n",
            "22.) Sentence: 'Herkes evde oturuyor.'\n",
            "Prediction: True\n",
            "\n",
            "23.) Sentence: 'En iyiside onun doğaçlamasıydı.'\n",
            "Prediction: False\n",
            "\n",
            "24.) Sentence: 'Onun aklı kırmızı elbisede kaldı.'\n",
            "Prediction: False\n",
            "\n",
            "25.) Sentence: 'İlkbaharda bütün doğa canlanır.'\n",
            "Prediction: True\n",
            "\n",
            "26.) Sentence: 'Komşunun köpeğide durmadan havlıyor.'\n",
            "Prediction: True\n",
            "\n",
            "27.) Sentence: 'Beni yanlış anlamada o iş öyle yapılmaz.'\n",
            "Prediction: False\n",
            "\n",
            "28.) Sentence: 'Yarın akşamda bizde ders çalışalım.'\n",
            "Prediction: True\n",
            "\n",
            "29.) Sentence: 'Masadaki bardağı uzatır mısın?'\n",
            "Prediction: True\n",
            "\n",
            "30.) Sentence: 'Çevremizi temiz tutalımki başkaları rahatsız olmasın.'\n",
            "Prediction: False\n",
            "\n",
            "31.) Sentence: 'Penceremdeki çiçek soğuktan dondu.'\n",
            "Prediction: True\n",
            "\n",
            "32.) Sentence: 'Duydumki unutmuşsun gözlerimin rengini.'\n",
            "Prediction: False\n",
            "\n",
            "33.) Sentence: 'Beni dinlemedinki gerçekleri sana anlatayım.'\n",
            "Prediction: False\n",
            "\n",
            "34.) Sentence: 'Kitap okuki kelime dağarcığın gelişsin.'\n",
            "Prediction: True\n",
            "\n",
            "35.) Sentence: 'Benki hep sizin için çalıştım.'\n",
            "Prediction: True\n",
            "\n",
            "36.) Sentence: 'Benimki yine gelmiş.'\n",
            "Prediction: True\n",
            "\n",
            "37.) Sentence: 'Kiminki kazanacak göreceğiz.'\n",
            "Prediction: True\n",
            "\n",
            "38.) Sentence: 'Patlıcanları ince ince doğraki güzel pişsin.'\n",
            "Prediction: True\n",
            "\n",
            "39.) Sentence: 'Yemeklerini yeki çabuk iyileşesin.'\n",
            "Prediction: False\n",
            "\n",
            "40.) Sentence: 'Tutki karnım acıktı, o zaman ne yapıcam?'\n",
            "Prediction: False\n",
            "\n"
          ]
        }
      ]
    },
    {
      "cell_type": "code",
      "source": [],
      "metadata": {
        "id": "Tr4WdZ6_Y7yl"
      },
      "execution_count": 40,
      "outputs": []
    }
  ],
  "metadata": {
    "colab": {
      "provenance": [],
      "gpuType": "V100",
      "collapsed_sections": [
        "fk8_EY9I-gaP"
      ],
      "toc_visible": true
    },
    "kernelspec": {
      "display_name": "Python 3",
      "name": "python3"
    },
    "language_info": {
      "name": "python"
    }
  },
  "nbformat": 4,
  "nbformat_minor": 0
}